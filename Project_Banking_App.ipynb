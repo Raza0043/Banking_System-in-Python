{
 "cells": [
  {
   "cell_type": "code",
   "execution_count": 11,
   "id": "11107194-4ba3-47f3-9cc5-9158c0234273",
   "metadata": {},
   "outputs": [],
   "source": [
    "def create_account(name, initial_balance=0.0):\n",
    "    return {\n",
    "        \"name\": name,\n",
    "        \"balance\": initial_balance,\n",
    "        \"transactions\": []\n",
    "    }\n",
    "\n"
   ]
  },
  {
   "cell_type": "code",
   "execution_count": 3,
   "id": "a314ad4e-421a-490a-9e33-5448c8182f86",
   "metadata": {},
   "outputs": [],
   "source": [
    "\n",
    "def deposit(account, amount):\n",
    "    if amount <= 0:\n",
    "        return \"Error: Deposit amount must be positive.\"\n",
    "    account[\"balance\"] += amount\n",
    "    account[\"transactions\"].append(f\"Deposit: ${amount}\")\n",
    "    return f\"Deposited ${amount}. New balance: ${account['balance']}.\"\n"
   ]
  },
  {
   "cell_type": "code",
   "execution_count": 13,
   "id": "111d44a8-2b47-47cd-aa53-5722eaaf5c4c",
   "metadata": {},
   "outputs": [],
   "source": [
    "\n",
    "def withdraw(account, amount):\n",
    "    if amount <= 0:\n",
    "        return \"Error: Withdrawal amount must be positive.\"\n",
    "    if account[\"balance\"] < amount:\n",
    "        return \"Error: Insufficient balance.\"\n",
    "    account[\"balance\"] -= amount\n",
    "    account[\"transactions\"].append(f\"Withdrawal: ${amount}\")\n",
    "    return f\"Withdrew ${amount}. New balance: ${account['balance']}.\"\n",
    "\n"
   ]
  },
  {
   "cell_type": "code",
   "execution_count": 15,
   "id": "01a8a233-2d01-4e9b-b777-d582f4b34b57",
   "metadata": {},
   "outputs": [],
   "source": [
    "\n",
    "def check_balance(account):\n",
    "    return f\"Current balance: ${account['balance']}.\"\n"
   ]
  },
  {
   "cell_type": "code",
   "execution_count": 17,
   "id": "7550b393-f0b2-4bd2-b18b-4ddd8c3ab62d",
   "metadata": {},
   "outputs": [],
   "source": [
    "\n",
    "def print_statement(account):\n",
    "    if not account[\"transactions\"]:\n",
    "        return \"No transactions found.\"\n",
    "    statement = f\"Account statement for {account['name']}:\\n\"\n",
    "    for transaction in account[\"transactions\"]:\n",
    "        statement += f\"- {transaction}\\n\"\n",
    "    statement += f\"Final Balance: ${account['balance']}\"\n",
    "    return statement\n"
   ]
  },
  {
   "cell_type": "code",
   "execution_count": 19,
   "id": "ba607a8b-0980-405b-8792-8e31c3f28906",
   "metadata": {},
   "outputs": [
    {
     "name": "stdout",
     "output_type": "stream",
     "text": [
      "Welcome To MERA BANK\n",
      "\n",
      "Account created for John Doe with balance $0.0.\n",
      "Deposited $500. New balance: $500.0.\n",
      "Withdrew $200. New balance: $300.0.\n",
      "Current balance: $300.0.\n",
      "Account statement for John Doe:\n",
      "- Deposit: $500\n",
      "- Withdrawal: $200\n",
      "Final Balance: $300.0\n"
     ]
    }
   ],
   "source": [
    "\n",
    "\n",
    "john_account = create_account(\"John Doe\")\n",
    "print(f\"Welcome To MERA BANK\\n\\nAccount created for {john_account['name']} with balance ${john_account['balance']}.\")\n",
    "\n",
    "\n",
    "print(deposit(john_account, 500))\n",
    "\n",
    "\n",
    "print(withdraw(john_account, 200))\n",
    "\n",
    "\n",
    "print(check_balance(john_account))\n",
    "\n",
    "\n",
    "print(print_statement(john_account))\n",
    "\n"
   ]
  },
  {
   "cell_type": "code",
   "execution_count": null,
   "id": "5a40b86b-32c4-4b82-afd5-502ffe543c90",
   "metadata": {},
   "outputs": [],
   "source": []
  }
 ],
 "metadata": {
  "kernelspec": {
   "display_name": "Python 3 (ipykernel)",
   "language": "python",
   "name": "python3"
  },
  "language_info": {
   "codemirror_mode": {
    "name": "ipython",
    "version": 3
   },
   "file_extension": ".py",
   "mimetype": "text/x-python",
   "name": "python",
   "nbconvert_exporter": "python",
   "pygments_lexer": "ipython3",
   "version": "3.12.7"
  }
 },
 "nbformat": 4,
 "nbformat_minor": 5
}
