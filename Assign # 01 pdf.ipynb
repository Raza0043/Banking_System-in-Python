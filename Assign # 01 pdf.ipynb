{
 "cells": [
  {
   "cell_type": "code",
   "execution_count": 3,
   "id": "f82ac21a-5fc7-4652-a95d-65717052b192",
   "metadata": {},
   "outputs": [
    {
     "name": "stdout",
     "output_type": "stream",
     "text": [
      "34 true 34 34.5\n"
     ]
    }
   ],
   "source": [
    "print(\"34\",\"true\",34,34.5)"
   ]
  },
  {
   "cell_type": "markdown",
   "id": "a1d192d4-0f3d-4736-900d-eb692877b47b",
   "metadata": {},
   "source": [
    "Question :02\n",
    " Using the python print function print hyphon(-) separated any string value, integer value, boolean value, float value in single print command"
   ]
  },
  {
   "cell_type": "code",
   "execution_count": 7,
   "id": "f7201b00-0e6c-4746-a751-a265f67393d6",
   "metadata": {},
   "outputs": [
    {
     "name": "stdout",
     "output_type": "stream",
     "text": [
      "34-true-34-34.5\n"
     ]
    }
   ],
   "source": [
    "print(\"34\",\"true\",34,34.5,sep=\"-\")"
   ]
  },
  {
   "cell_type": "code",
   "execution_count": 11,
   "id": "37b591da-e5ba-47e4-95d1-08abd6e4cc39",
   "metadata": {},
   "outputs": [],
   "source": [
    "\n",
    "#Question :03\n",
    "# Using the python print function print any string value, integer value, boolean value, float value in separate print command.\n",
    "#But every value must be space separated and in single line"
   ]
  },
  {
   "cell_type": "code",
   "execution_count": 19,
   "id": "294c6e36-8370-44fb-8b2b-75d64d5b2590",
   "metadata": {},
   "outputs": [
    {
     "name": "stdout",
     "output_type": "stream",
     "text": [
      "34\n",
      "34\n",
      "true\n",
      "34.5\n"
     ]
    }
   ],
   "source": [
    "print(\"34\")\n",
    "print(34)\n",
    "print(\"true\")\n",
    "print(34.5)"
   ]
  },
  {
   "cell_type": "code",
   "execution_count": 21,
   "id": "6260ba9f-fc57-4c64-9fe4-94bd151f3a36",
   "metadata": {},
   "outputs": [],
   "source": [
    "#Question :04\n",
    "#Can a python print function take no value to print???"
   ]
  },
  {
   "cell_type": "code",
   "execution_count": 25,
   "id": "d87a60b3-fa89-4374-aa2b-07b1df01a694",
   "metadata": {},
   "outputs": [
    {
     "name": "stdout",
     "output_type": "stream",
     "text": [
      "\n"
     ]
    }
   ],
   "source": [
    "print()\n",
    "#it need any argument to print but in this condition it prints none"
   ]
  },
  {
   "cell_type": "markdown",
   "id": "6af64cc3-4187-4a9f-b04c-c811faa723c5",
   "metadata": {},
   "source": [
    "# TOPIC :Variables in Python Operators \n",
    "#Question :05\n",
    "##5) One of my friends name is Mr. Ahmed. He is 30 years old.  He is a lawer by profession. He has done his bachelors in law in the year 2005. He is working with a reputable law firm 'The Himalya Associates' in Karachi since 2015.\n",
    "He is a handsome lawer with height of 5.10 feets and weight 70600g. His monthly income is Rs. 200k PKR.\n",
    "\n",
    "Note: Create variables from above text and also assign values from the text.\n"
   ]
  },
  {
   "cell_type": "code",
   "execution_count": 81,
   "id": "0193740c-9a61-4ec4-9b6e-599ca7c75ccd",
   "metadata": {},
   "outputs": [
    {
     "name": "stdout",
     "output_type": "stream",
     "text": [
      "Mr.Ahmed,30,lawyer,2005,The Himalya Associates,2015,handsome,5.1,70600,200000\n"
     ]
    }
   ],
   "source": [
    "friend_name=\"Mr.Ahmed\"\n",
    "f_age=30\n",
    "profession=\"lawyer\"\n",
    "degree_year=2005\n",
    "company_name='The Himalya Associates'\n",
    "job_start=2015\n",
    "personality=\"handsome\"\n",
    "height=5.10\n",
    "weight=70600\n",
    "income=200000\n",
    "print(friend_name,f_age,profession,degree_year,company_name,job_start,personality,height,weight,income,sep=\",\")"
   ]
  },
  {
   "cell_type": "code",
   "execution_count": 35,
   "id": "24046da0-2587-4c85-a369-17df8c610b71",
   "metadata": {},
   "outputs": [],
   "source": [
    "#Question:06\n",
    "#6)How many years has been to Mr. Ahmed after his bachelors degree? Create a variable that hold current year value and then subtract it from his passout year"
   ]
  },
  {
   "cell_type": "code",
   "execution_count": 47,
   "id": "d8db9abf-acac-4ab8-8741-91f8d984a463",
   "metadata": {},
   "outputs": [
    {
     "data": {
      "text/plain": [
       "19"
      ]
     },
     "execution_count": 47,
     "metadata": {},
     "output_type": "execute_result"
    }
   ],
   "source": [
    "curr_year=2024\n",
    "degree_year\n",
    "sub=curr_year-degree_year\n",
    "sub"
   ]
  },
  {
   "cell_type": "code",
   "execution_count": 49,
   "id": "844b770f-893c-45ff-b449-3b632bb48dc6",
   "metadata": {},
   "outputs": [],
   "source": [
    "#Question :07\n",
    "#How many years has Mr. Ahmed been working with law firm 'The Himalya Associates'. Create necesary variables and print the correct number of years in working in the firm"
   ]
  },
  {
   "cell_type": "code",
   "execution_count": 59,
   "id": "c9d4f799-f46b-49fa-a62d-15213805db8f",
   "metadata": {},
   "outputs": [
    {
     "data": {
      "text/plain": [
       "9"
      ]
     },
     "execution_count": 59,
     "metadata": {},
     "output_type": "execute_result"
    }
   ],
   "source": [
    "\n",
    "\n",
    "working_year=curr_year-job_start\n",
    "working_year"
   ]
  },
  {
   "cell_type": "code",
   "execution_count": 61,
   "id": "a233c4c2-5806-489f-9ff3-0fae607e1c7b",
   "metadata": {},
   "outputs": [],
   "source": [
    "#Question :08\n",
    "#Convert the monthly income of Mr. Ahmed in dollars.  Create necesary variables and print the income in dollars."
   ]
  },
  {
   "cell_type": "code",
   "execution_count": 69,
   "id": "7828e5e9-b3a3-4352-b907-bea3a9512a28",
   "metadata": {},
   "outputs": [
    {
     "data": {
      "text/plain": [
       "55794000.00000001"
      ]
     },
     "execution_count": 69,
     "metadata": {},
     "output_type": "execute_result"
    }
   ],
   "source": [
    "converter=income*278.97\n",
    "converter "
   ]
  },
  {
   "cell_type": "code",
   "execution_count": 71,
   "id": "99af506d-58ba-4fb8-a81b-c30d97e7b1e6",
   "metadata": {},
   "outputs": [],
   "source": [
    "#Question :09\n",
    "#9) Check if the income in dollars is a float or integer value. if it is float, re-write the code so that income gets converted in integer. print the income in integer type value"
   ]
  },
  {
   "cell_type": "code",
   "execution_count": 73,
   "id": "b0f74059-339a-4c41-b8e6-7a05e746d59a",
   "metadata": {},
   "outputs": [
    {
     "data": {
      "text/plain": [
       "55794000"
      ]
     },
     "execution_count": 73,
     "metadata": {},
     "output_type": "execute_result"
    }
   ],
   "source": [
    "int(converter)\n"
   ]
  },
  {
   "cell_type": "code",
   "execution_count": 75,
   "id": "29b5b458-7562-4a6e-91c1-8cc0399733bf",
   "metadata": {},
   "outputs": [],
   "source": [
    "#Question :10\n",
    "#10) Print the type of Mr. Ahmed's weight. Convert the weight of Mr. Ahmed in kg so that weight must be a integer value."
   ]
  },
  {
   "cell_type": "code",
   "execution_count": 89,
   "id": "6710d69b-44e4-480f-920b-1b0a7a505e60",
   "metadata": {},
   "outputs": [
    {
     "name": "stdout",
     "output_type": "stream",
     "text": [
      "<class 'float'> 70.6\n"
     ]
    }
   ],
   "source": [
    "f=weight/1000\n",
    "print(type(f),f)"
   ]
  },
  {
   "cell_type": "code",
   "execution_count": 87,
   "id": "fbf060f0-8c09-45c3-8612-32e967c94756",
   "metadata": {},
   "outputs": [],
   "source": [
    "#convert into int"
   ]
  },
  {
   "cell_type": "code",
   "execution_count": 93,
   "id": "cf46e716-09be-4fd3-9c53-e071faef990f",
   "metadata": {},
   "outputs": [
    {
     "data": {
      "text/plain": [
       "70"
      ]
     },
     "execution_count": 93,
     "metadata": {},
     "output_type": "execute_result"
    }
   ],
   "source": [
    "int(f)\n"
   ]
  },
  {
   "cell_type": "code",
   "execution_count": 95,
   "id": "6915bd15-99bb-448b-85a1-1ad55504586b",
   "metadata": {},
   "outputs": [],
   "source": [
    "#Question :11\n",
    "##11) print the year of birth of Mr. Ahmed.Also #type your code here"
   ]
  },
  {
   "cell_type": "code",
   "execution_count": 103,
   "id": "e058b92b-2896-41ac-9e0f-5a396efdb3f9",
   "metadata": {},
   "outputs": [
    {
     "data": {
      "text/plain": [
       "30"
      ]
     },
     "execution_count": 103,
     "metadata": {},
     "output_type": "execute_result"
    }
   ],
   "source": [
    "f_age\n"
   ]
  },
  {
   "cell_type": "code",
   "execution_count": 105,
   "id": "36f0a169-7155-45a6-91c7-d24d11803d43",
   "metadata": {},
   "outputs": [
    {
     "data": {
      "text/plain": [
       "int"
      ]
     },
     "execution_count": 105,
     "metadata": {},
     "output_type": "execute_result"
    }
   ],
   "source": [
    "type(f_age)"
   ]
  },
  {
   "cell_type": "code",
   "execution_count": 107,
   "id": "cb732f9a-1299-4813-96cb-130a531f142c",
   "metadata": {},
   "outputs": [],
   "source": [
    "#Question:12\n",
    "#12) Can Rs. 100 be divided equally among 6 students?\n",
    "#HINT: % operator (modulo)"
   ]
  },
  {
   "cell_type": "code",
   "execution_count": 111,
   "id": "77cba820-192b-4474-a01c-85ac75e1bdf3",
   "metadata": {},
   "outputs": [
    {
     "data": {
      "text/plain": [
       "4"
      ]
     },
     "execution_count": 111,
     "metadata": {},
     "output_type": "execute_result"
    }
   ],
   "source": [
    "divide=100%6\n",
    "divide"
   ]
  },
  {
   "cell_type": "code",
   "execution_count": 113,
   "id": "6bf7f07c-c11d-49f6-ac5a-4d46f6cdb092",
   "metadata": {},
   "outputs": [
    {
     "data": {
      "text/plain": [
       "0"
      ]
     },
     "execution_count": 113,
     "metadata": {},
     "output_type": "execute_result"
    }
   ],
   "source": [
    "10%2\n",
    "# 10 is completely divisible by2\n",
    "# 10 is multiple of 2\n",
    "# 2 is a factor of 10\n",
    "# 10 comes in table of 2"
   ]
  },
  {
   "cell_type": "code",
   "execution_count": 119,
   "id": "fbb6064f-f74f-4b93-98ff-bef1ad2453ec",
   "metadata": {},
   "outputs": [
    {
     "data": {
      "text/plain": [
       "0"
      ]
     },
     "execution_count": 119,
     "metadata": {},
     "output_type": "execute_result"
    }
   ],
   "source": [
    "10%2\n",
    "# all the given condition is true"
   ]
  },
  {
   "cell_type": "code",
   "execution_count": null,
   "id": "5f19491a-5216-47ff-9528-adfeb2c18680",
   "metadata": {},
   "outputs": [],
   "source": []
  }
 ],
 "metadata": {
  "kernelspec": {
   "display_name": "Python 3 (ipykernel)",
   "language": "python",
   "name": "python3"
  },
  "language_info": {
   "codemirror_mode": {
    "name": "ipython",
    "version": 3
   },
   "file_extension": ".py",
   "mimetype": "text/x-python",
   "name": "python",
   "nbconvert_exporter": "python",
   "pygments_lexer": "ipython3",
   "version": "3.12.7"
  }
 },
 "nbformat": 4,
 "nbformat_minor": 5
}
